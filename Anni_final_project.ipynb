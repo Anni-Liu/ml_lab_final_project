{
 "cells": [
  {
   "cell_type": "markdown",
   "metadata": {
    "cell_id": "00000-2e04c66a-a4d1-4e10-9967-5cf95eeb2974",
    "deepnote_cell_type": "markdown",
    "toc": true
   },
   "source": [
    "<h1>Table of Contents<span class=\"tocSkip\"></span></h1>\n",
    "<div class=\"toc\"><ul class=\"toc-item\"><li><span><a href=\"#Final-Project-Check-in\" data-toc-modified-id=\"Final-Project-Check-in-1\">Final Project Check-in</a></span></li><li><span><a href=\"#Name-(as-it-appears-on-Canvas)\" data-toc-modified-id=\"Name-(as-it-appears-on-Canvas)-2\">Name (as it appears on Canvas)</a></span></li><li><span><a href=\"#Research-Question-/-Hypothesis\" data-toc-modified-id=\"Research-Question-/-Hypothesis-3\">Research Question / Hypothesis</a></span></li><li><span><a href=\"#Load-Data\" data-toc-modified-id=\"Load-Data-4\">Load Data</a></span></li><li><span><a href=\"#Fit-scikit-learn-model\" data-toc-modified-id=\"Fit-scikit-learn-model-5\">Fit scikit-learn model</a></span></li><li><span><a href=\"#Evaluation-Metric\" data-toc-modified-id=\"Evaluation-Metric-6\">Evaluation Metric</a></span></li></ul></div>"
   ]
  },
  {
   "cell_type": "markdown",
   "metadata": {
    "cell_id": "00001-19458601-a35a-4485-bfca-d211998b1ae6",
    "deepnote_cell_type": "markdown"
   },
   "source": [
    "Final Project Check-in\n",
    "------"
   ]
  },
  {
   "cell_type": "markdown",
   "metadata": {
    "cell_id": "00002-3b1549ec-de26-4230-b644-70205ae46fab",
    "deepnote_cell_type": "markdown"
   },
   "source": [
    "Name (as it appears on Canvas)\n",
    "----------\n",
    "\n",
    "\n",
    "\n"
   ]
  },
  {
   "cell_type": "markdown",
   "metadata": {
    "cell_id": "00003-c662eb44-4955-4376-a173-d6dbe74e8764",
    "deepnote_cell_type": "markdown"
   },
   "source": [
    "Anni Liu "
   ]
  },
  {
   "cell_type": "markdown",
   "metadata": {
    "cell_id": "00004-3d3af0cf-9551-4c20-a89a-2ef778033b9a",
    "deepnote_cell_type": "markdown"
   },
   "source": [
    "Research Question / Hypothesis\n",
    "----\n",
    "\n",
    "\n"
   ]
  },
  {
   "cell_type": "markdown",
   "metadata": {
    "cell_id": "00005-473bae62-4653-4bf4-af48-92f23c829578",
    "deepnote_cell_type": "markdown",
    "tags": []
   },
   "source": [
    "Summer Sales Prediction with Units Sold"
   ]
  },
  {
   "cell_type": "markdown",
   "metadata": {
    "cell_id": "00005-b862a5fa-d3b0-4264-a58b-f9c0cff2f67f",
    "deepnote_cell_type": "markdown"
   },
   "source": [
    "Load Data\n",
    "-----"
   ]
  },
  {
   "cell_type": "code",
   "execution_count": 1,
   "metadata": {
    "cell_id": "00006-1b21e4e4-5b21-4401-8eb6-821c516b3093",
    "deepnote_cell_type": "code",
    "deepnote_to_be_reexecuted": false,
    "execution_millis": 1,
    "execution_start": 1613882228649,
    "source_hash": "dca65800"
   },
   "outputs": [],
   "source": [
    "reset -fs"
   ]
  },
  {
   "cell_type": "code",
   "execution_count": 2,
   "metadata": {
    "cell_id": "00007-e6029f3f-27f7-46cc-a386-e207ececa419",
    "deepnote_cell_type": "code",
    "deepnote_to_be_reexecuted": false,
    "execution_millis": 3,
    "execution_start": 1613882228809,
    "source_hash": "ba375c58",
    "tags": []
   },
   "outputs": [],
   "source": [
    "import pandas as pd\n",
    "import numpy as np\n",
    "import matplotlib.pyplot as plt\n",
    "from sklearn.model_selection import train_test_split\n",
    "from sklearn.linear_model import LogisticRegression\n",
    "from sklearn.tree import DecisionTreeClassifier\n",
    "from sklearn.ensemble import RandomForestClassifier, RandomForestRegressor, GradientBoostingClassifier\n",
    "from sklearn.svm import SVC\n",
    "from sklearn.model_selection import RandomizedSearchCV\n",
    "from sklearn.metrics import *\n",
    "from sklearn import preprocessing\n",
    "from sklearn.pipeline import Pipeline\n",
    "from sklearn import compose\n",
    "from sklearn.experimental import enable_iterative_imputer\n",
    "from sklearn import impute\n",
    "from sklearn.model_selection import KFold\n",
    "from sklearn.metrics import make_scorer\n",
    "from sklearn.feature_selection import SelectKBest\n",
    "from sklearn.feature_selection import mutual_info_regression\n",
    "from sklearn.model_selection import cross_val_score\n",
    "from sklearn.linear_model import LinearRegression\n",
    "from sklearn.svm import SVR\n",
    "from sklearn.tree import DecisionTreeRegressor\n",
    "from sklearn.ensemble import RandomForestRegressor\n",
    "from sklearn.preprocessing import StandardScaler\n",
    "from sklearn.model_selection import GridSearchCV\n",
    "from xgboost.sklearn import XGBClassifier\n",
    "import warnings\n",
    "warnings.filterwarnings('ignore')"
   ]
  },
  {
   "cell_type": "code",
   "execution_count": 3,
   "metadata": {
    "cell_id": "00008-778a0604-3b1a-4b3d-bf13-f19c043c5632",
    "deepnote_cell_type": "code",
    "deepnote_to_be_reexecuted": false,
    "execution_millis": 24,
    "execution_start": 1613882229356,
    "source_hash": "7dca6495",
    "tags": []
   },
   "outputs": [],
   "source": [
    "data = pd.read_csv(\"summer-products-with-rating-and-performance_2020-08.csv\")\n",
    "df = data.copy()"
   ]
  },
  {
   "cell_type": "code",
   "execution_count": 4,
   "metadata": {
    "cell_id": "00009-0c9fc786-3906-4f1b-8ffa-e146bedda495",
    "deepnote_cell_type": "code",
    "deepnote_to_be_reexecuted": false,
    "execution_millis": 7,
    "execution_start": 1613882229736,
    "source_hash": "de1e323c",
    "tags": []
   },
   "outputs": [
    {
     "name": "stdout",
     "output_type": "stream",
     "text": [
      "<class 'pandas.core.frame.DataFrame'>\n",
      "RangeIndex: 1573 entries, 0 to 1572\n",
      "Data columns (total 43 columns):\n",
      " #   Column                        Non-Null Count  Dtype  \n",
      "---  ------                        --------------  -----  \n",
      " 0   title                         1573 non-null   object \n",
      " 1   title_orig                    1573 non-null   object \n",
      " 2   price                         1573 non-null   float64\n",
      " 3   retail_price                  1573 non-null   int64  \n",
      " 4   currency_buyer                1573 non-null   object \n",
      " 5   units_sold                    1573 non-null   int64  \n",
      " 6   uses_ad_boosts                1573 non-null   int64  \n",
      " 7   rating                        1573 non-null   float64\n",
      " 8   rating_count                  1573 non-null   int64  \n",
      " 9   rating_five_count             1528 non-null   float64\n",
      " 10  rating_four_count             1528 non-null   float64\n",
      " 11  rating_three_count            1528 non-null   float64\n",
      " 12  rating_two_count              1528 non-null   float64\n",
      " 13  rating_one_count              1528 non-null   float64\n",
      " 14  badges_count                  1573 non-null   int64  \n",
      " 15  badge_local_product           1573 non-null   int64  \n",
      " 16  badge_product_quality         1573 non-null   int64  \n",
      " 17  badge_fast_shipping           1573 non-null   int64  \n",
      " 18  tags                          1573 non-null   object \n",
      " 19  product_color                 1532 non-null   object \n",
      " 20  product_variation_size_id     1559 non-null   object \n",
      " 21  product_variation_inventory   1573 non-null   int64  \n",
      " 22  shipping_option_name          1573 non-null   object \n",
      " 23  shipping_option_price         1573 non-null   int64  \n",
      " 24  shipping_is_express           1573 non-null   int64  \n",
      " 25  countries_shipped_to          1573 non-null   int64  \n",
      " 26  inventory_total               1573 non-null   int64  \n",
      " 27  has_urgency_banner            473 non-null    float64\n",
      " 28  urgency_text                  473 non-null    object \n",
      " 29  origin_country                1556 non-null   object \n",
      " 30  merchant_title                1573 non-null   object \n",
      " 31  merchant_name                 1569 non-null   object \n",
      " 32  merchant_info_subtitle        1572 non-null   object \n",
      " 33  merchant_rating_count         1573 non-null   int64  \n",
      " 34  merchant_rating               1573 non-null   float64\n",
      " 35  merchant_id                   1573 non-null   object \n",
      " 36  merchant_has_profile_picture  1573 non-null   int64  \n",
      " 37  merchant_profile_picture      226 non-null    object \n",
      " 38  product_url                   1573 non-null   object \n",
      " 39  product_picture               1573 non-null   object \n",
      " 40  product_id                    1573 non-null   object \n",
      " 41  theme                         1573 non-null   object \n",
      " 42  crawl_month                   1573 non-null   object \n",
      "dtypes: float64(9), int64(15), object(19)\n",
      "memory usage: 528.6+ KB\n"
     ]
    }
   ],
   "source": [
    "df.info()"
   ]
  },
  {
   "cell_type": "code",
   "execution_count": 5,
   "metadata": {
    "cell_id": "00010-57c98d1c-09d1-4d9c-80d8-25190be23c13",
    "deepnote_cell_type": "code",
    "deepnote_to_be_reexecuted": false,
    "execution_millis": 7,
    "execution_start": 1613882230236,
    "source_hash": "52430027",
    "tags": []
   },
   "outputs": [
    {
     "data": {
      "text/plain": [
       "title                            object\n",
       "title_orig                       object\n",
       "price                           float64\n",
       "retail_price                      int64\n",
       "currency_buyer                   object\n",
       "units_sold                        int64\n",
       "uses_ad_boosts                    int64\n",
       "rating                          float64\n",
       "rating_count                      int64\n",
       "rating_five_count               float64\n",
       "rating_four_count               float64\n",
       "rating_three_count              float64\n",
       "rating_two_count                float64\n",
       "rating_one_count                float64\n",
       "badges_count                      int64\n",
       "badge_local_product               int64\n",
       "badge_product_quality             int64\n",
       "badge_fast_shipping               int64\n",
       "tags                             object\n",
       "product_color                    object\n",
       "product_variation_size_id        object\n",
       "product_variation_inventory       int64\n",
       "shipping_option_name             object\n",
       "shipping_option_price             int64\n",
       "shipping_is_express               int64\n",
       "countries_shipped_to              int64\n",
       "inventory_total                   int64\n",
       "has_urgency_banner              float64\n",
       "urgency_text                     object\n",
       "origin_country                   object\n",
       "merchant_title                   object\n",
       "merchant_name                    object\n",
       "merchant_info_subtitle           object\n",
       "merchant_rating_count             int64\n",
       "merchant_rating                 float64\n",
       "merchant_id                      object\n",
       "merchant_has_profile_picture      int64\n",
       "merchant_profile_picture         object\n",
       "product_url                      object\n",
       "product_picture                  object\n",
       "product_id                       object\n",
       "theme                            object\n",
       "crawl_month                      object\n",
       "dtype: object"
      ]
     },
     "execution_count": 5,
     "metadata": {},
     "output_type": "execute_result"
    }
   ],
   "source": [
    "df.dtypes"
   ]
  },
  {
   "cell_type": "code",
   "execution_count": 6,
   "metadata": {
    "cell_id": "00011-bfedd88d-f397-441b-8e09-368b2d9be9f7",
    "deepnote_cell_type": "code",
    "deepnote_to_be_reexecuted": false,
    "execution_millis": 65,
    "execution_start": 1613882230649,
    "source_hash": "240ce0d3",
    "tags": []
   },
   "outputs": [
    {
     "data": {
      "text/html": [
       "<div>\n",
       "<style scoped>\n",
       "    .dataframe tbody tr th:only-of-type {\n",
       "        vertical-align: middle;\n",
       "    }\n",
       "\n",
       "    .dataframe tbody tr th {\n",
       "        vertical-align: top;\n",
       "    }\n",
       "\n",
       "    .dataframe thead th {\n",
       "        text-align: right;\n",
       "    }\n",
       "</style>\n",
       "<table border=\"1\" class=\"dataframe\">\n",
       "  <thead>\n",
       "    <tr style=\"text-align: right;\">\n",
       "      <th></th>\n",
       "      <th>price</th>\n",
       "      <th>retail_price</th>\n",
       "      <th>units_sold</th>\n",
       "      <th>uses_ad_boosts</th>\n",
       "      <th>rating</th>\n",
       "      <th>rating_count</th>\n",
       "      <th>rating_five_count</th>\n",
       "      <th>rating_four_count</th>\n",
       "      <th>rating_three_count</th>\n",
       "      <th>rating_two_count</th>\n",
       "      <th>...</th>\n",
       "      <th>badge_fast_shipping</th>\n",
       "      <th>product_variation_inventory</th>\n",
       "      <th>shipping_option_price</th>\n",
       "      <th>shipping_is_express</th>\n",
       "      <th>countries_shipped_to</th>\n",
       "      <th>inventory_total</th>\n",
       "      <th>has_urgency_banner</th>\n",
       "      <th>merchant_rating_count</th>\n",
       "      <th>merchant_rating</th>\n",
       "      <th>merchant_has_profile_picture</th>\n",
       "    </tr>\n",
       "  </thead>\n",
       "  <tbody>\n",
       "    <tr>\n",
       "      <th>0</th>\n",
       "      <td>16.0</td>\n",
       "      <td>14</td>\n",
       "      <td>100</td>\n",
       "      <td>0</td>\n",
       "      <td>3.76</td>\n",
       "      <td>54</td>\n",
       "      <td>26.0</td>\n",
       "      <td>8.0</td>\n",
       "      <td>10.0</td>\n",
       "      <td>1.0</td>\n",
       "      <td>...</td>\n",
       "      <td>0</td>\n",
       "      <td>50</td>\n",
       "      <td>4</td>\n",
       "      <td>0</td>\n",
       "      <td>34</td>\n",
       "      <td>50</td>\n",
       "      <td>1.0</td>\n",
       "      <td>568</td>\n",
       "      <td>4.128521</td>\n",
       "      <td>0</td>\n",
       "    </tr>\n",
       "    <tr>\n",
       "      <th>1</th>\n",
       "      <td>8.0</td>\n",
       "      <td>22</td>\n",
       "      <td>20000</td>\n",
       "      <td>1</td>\n",
       "      <td>3.45</td>\n",
       "      <td>6135</td>\n",
       "      <td>2269.0</td>\n",
       "      <td>1027.0</td>\n",
       "      <td>1118.0</td>\n",
       "      <td>644.0</td>\n",
       "      <td>...</td>\n",
       "      <td>0</td>\n",
       "      <td>50</td>\n",
       "      <td>2</td>\n",
       "      <td>0</td>\n",
       "      <td>41</td>\n",
       "      <td>50</td>\n",
       "      <td>1.0</td>\n",
       "      <td>17752</td>\n",
       "      <td>3.899673</td>\n",
       "      <td>0</td>\n",
       "    </tr>\n",
       "    <tr>\n",
       "      <th>2</th>\n",
       "      <td>8.0</td>\n",
       "      <td>43</td>\n",
       "      <td>100</td>\n",
       "      <td>0</td>\n",
       "      <td>3.57</td>\n",
       "      <td>14</td>\n",
       "      <td>5.0</td>\n",
       "      <td>4.0</td>\n",
       "      <td>2.0</td>\n",
       "      <td>0.0</td>\n",
       "      <td>...</td>\n",
       "      <td>0</td>\n",
       "      <td>1</td>\n",
       "      <td>3</td>\n",
       "      <td>0</td>\n",
       "      <td>36</td>\n",
       "      <td>50</td>\n",
       "      <td>1.0</td>\n",
       "      <td>295</td>\n",
       "      <td>3.989831</td>\n",
       "      <td>0</td>\n",
       "    </tr>\n",
       "  </tbody>\n",
       "</table>\n",
       "<p>3 rows × 24 columns</p>\n",
       "</div>"
      ],
      "text/plain": [
       "   price  retail_price  units_sold  uses_ad_boosts  rating  rating_count  \\\n",
       "0   16.0            14         100               0    3.76            54   \n",
       "1    8.0            22       20000               1    3.45          6135   \n",
       "2    8.0            43         100               0    3.57            14   \n",
       "\n",
       "   rating_five_count  rating_four_count  rating_three_count  rating_two_count  \\\n",
       "0               26.0                8.0                10.0               1.0   \n",
       "1             2269.0             1027.0              1118.0             644.0   \n",
       "2                5.0                4.0                 2.0               0.0   \n",
       "\n",
       "   ...  badge_fast_shipping  product_variation_inventory  \\\n",
       "0  ...                    0                           50   \n",
       "1  ...                    0                           50   \n",
       "2  ...                    0                            1   \n",
       "\n",
       "   shipping_option_price  shipping_is_express  countries_shipped_to  \\\n",
       "0                      4                    0                    34   \n",
       "1                      2                    0                    41   \n",
       "2                      3                    0                    36   \n",
       "\n",
       "   inventory_total  has_urgency_banner  merchant_rating_count  \\\n",
       "0               50                 1.0                    568   \n",
       "1               50                 1.0                  17752   \n",
       "2               50                 1.0                    295   \n",
       "\n",
       "   merchant_rating  merchant_has_profile_picture  \n",
       "0         4.128521                             0  \n",
       "1         3.899673                             0  \n",
       "2         3.989831                             0  \n",
       "\n",
       "[3 rows x 24 columns]"
      ]
     },
     "execution_count": 6,
     "metadata": {},
     "output_type": "execute_result"
    }
   ],
   "source": [
    "#Remove object columns\n",
    "for col in df.select_dtypes('object'):\n",
    "    df = df.drop([col], axis=1)\n",
    "    \n",
    "df.head(3)"
   ]
  },
  {
   "cell_type": "code",
   "execution_count": 7,
   "metadata": {
    "cell_id": "00011-dfe55542-c262-40d0-86fe-146a08cf9c25",
    "deepnote_cell_type": "code",
    "deepnote_to_be_reexecuted": false,
    "execution_millis": 9,
    "execution_start": 1613882231155,
    "source_hash": "b1f4f042",
    "tags": []
   },
   "outputs": [
    {
     "data": {
      "text/plain": [
       "rating_five_count       45\n",
       "rating_four_count       45\n",
       "rating_three_count      45\n",
       "rating_two_count        45\n",
       "rating_one_count        45\n",
       "has_urgency_banner    1100\n",
       "dtype: int64"
      ]
     },
     "execution_count": 7,
     "metadata": {},
     "output_type": "execute_result"
    }
   ],
   "source": [
    "df.isnull().sum()[df.isnull().sum() !=0]"
   ]
  },
  {
   "cell_type": "code",
   "execution_count": 8,
   "metadata": {
    "cell_id": "00013-3bd221e5-7431-473f-86f1-555a7fc1a332",
    "deepnote_cell_type": "code",
    "deepnote_to_be_reexecuted": false,
    "execution_millis": 3,
    "execution_start": 1613882231533,
    "source_hash": "176bd08b",
    "tags": []
   },
   "outputs": [],
   "source": [
    "for c in df.columns:\n",
    "    if df[c].isnull().sum() > 40:\n",
    "        df[c] = df[c].replace(np.nan, 0)"
   ]
  },
  {
   "cell_type": "code",
   "execution_count": 9,
   "metadata": {
    "cell_id": "00014-41e49a56-709a-4724-a496-c46bb58b2a06",
    "deepnote_cell_type": "code",
    "deepnote_to_be_reexecuted": false,
    "execution_millis": 65,
    "execution_start": 1613882232970,
    "source_hash": "9984db41",
    "tags": []
   },
   "outputs": [
    {
     "data": {
      "text/html": [
       "<div>\n",
       "<style scoped>\n",
       "    .dataframe tbody tr th:only-of-type {\n",
       "        vertical-align: middle;\n",
       "    }\n",
       "\n",
       "    .dataframe tbody tr th {\n",
       "        vertical-align: top;\n",
       "    }\n",
       "\n",
       "    .dataframe thead th {\n",
       "        text-align: right;\n",
       "    }\n",
       "</style>\n",
       "<table border=\"1\" class=\"dataframe\">\n",
       "  <thead>\n",
       "    <tr style=\"text-align: right;\">\n",
       "      <th></th>\n",
       "      <th>price</th>\n",
       "      <th>retail_price</th>\n",
       "      <th>units_sold</th>\n",
       "      <th>uses_ad_boosts</th>\n",
       "      <th>rating</th>\n",
       "      <th>rating_count</th>\n",
       "      <th>rating_five_count</th>\n",
       "      <th>rating_four_count</th>\n",
       "      <th>rating_three_count</th>\n",
       "      <th>rating_two_count</th>\n",
       "      <th>...</th>\n",
       "      <th>shipping_is_express</th>\n",
       "      <th>countries_shipped_to</th>\n",
       "      <th>inventory_total</th>\n",
       "      <th>has_urgency_banner</th>\n",
       "      <th>merchant_rating_count</th>\n",
       "      <th>merchant_rating</th>\n",
       "      <th>merchant_has_profile_picture</th>\n",
       "      <th>product_variation_size_id</th>\n",
       "      <th>origin_country</th>\n",
       "      <th>product_color</th>\n",
       "    </tr>\n",
       "  </thead>\n",
       "  <tbody>\n",
       "    <tr>\n",
       "      <th>0</th>\n",
       "      <td>16.0</td>\n",
       "      <td>14</td>\n",
       "      <td>100</td>\n",
       "      <td>0</td>\n",
       "      <td>3.76</td>\n",
       "      <td>54</td>\n",
       "      <td>26.0</td>\n",
       "      <td>8.0</td>\n",
       "      <td>10.0</td>\n",
       "      <td>1.0</td>\n",
       "      <td>...</td>\n",
       "      <td>0</td>\n",
       "      <td>34</td>\n",
       "      <td>50</td>\n",
       "      <td>1.0</td>\n",
       "      <td>568</td>\n",
       "      <td>4.128521</td>\n",
       "      <td>0</td>\n",
       "      <td>M</td>\n",
       "      <td>CN</td>\n",
       "      <td>white</td>\n",
       "    </tr>\n",
       "    <tr>\n",
       "      <th>1</th>\n",
       "      <td>8.0</td>\n",
       "      <td>22</td>\n",
       "      <td>20000</td>\n",
       "      <td>1</td>\n",
       "      <td>3.45</td>\n",
       "      <td>6135</td>\n",
       "      <td>2269.0</td>\n",
       "      <td>1027.0</td>\n",
       "      <td>1118.0</td>\n",
       "      <td>644.0</td>\n",
       "      <td>...</td>\n",
       "      <td>0</td>\n",
       "      <td>41</td>\n",
       "      <td>50</td>\n",
       "      <td>1.0</td>\n",
       "      <td>17752</td>\n",
       "      <td>3.899673</td>\n",
       "      <td>0</td>\n",
       "      <td>XS</td>\n",
       "      <td>CN</td>\n",
       "      <td>green</td>\n",
       "    </tr>\n",
       "    <tr>\n",
       "      <th>2</th>\n",
       "      <td>8.0</td>\n",
       "      <td>43</td>\n",
       "      <td>100</td>\n",
       "      <td>0</td>\n",
       "      <td>3.57</td>\n",
       "      <td>14</td>\n",
       "      <td>5.0</td>\n",
       "      <td>4.0</td>\n",
       "      <td>2.0</td>\n",
       "      <td>0.0</td>\n",
       "      <td>...</td>\n",
       "      <td>0</td>\n",
       "      <td>36</td>\n",
       "      <td>50</td>\n",
       "      <td>1.0</td>\n",
       "      <td>295</td>\n",
       "      <td>3.989831</td>\n",
       "      <td>0</td>\n",
       "      <td>XS</td>\n",
       "      <td>CN</td>\n",
       "      <td>leopardprint</td>\n",
       "    </tr>\n",
       "  </tbody>\n",
       "</table>\n",
       "<p>3 rows × 27 columns</p>\n",
       "</div>"
      ],
      "text/plain": [
       "   price  retail_price  units_sold  uses_ad_boosts  rating  rating_count  \\\n",
       "0   16.0            14         100               0    3.76            54   \n",
       "1    8.0            22       20000               1    3.45          6135   \n",
       "2    8.0            43         100               0    3.57            14   \n",
       "\n",
       "   rating_five_count  rating_four_count  rating_three_count  rating_two_count  \\\n",
       "0               26.0                8.0                10.0               1.0   \n",
       "1             2269.0             1027.0              1118.0             644.0   \n",
       "2                5.0                4.0                 2.0               0.0   \n",
       "\n",
       "   ...  shipping_is_express  countries_shipped_to  inventory_total  \\\n",
       "0  ...                    0                    34               50   \n",
       "1  ...                    0                    41               50   \n",
       "2  ...                    0                    36               50   \n",
       "\n",
       "   has_urgency_banner  merchant_rating_count  merchant_rating  \\\n",
       "0                 1.0                    568         4.128521   \n",
       "1                 1.0                  17752         3.899673   \n",
       "2                 1.0                    295         3.989831   \n",
       "\n",
       "   merchant_has_profile_picture  product_variation_size_id  origin_country  \\\n",
       "0                             0                          M              CN   \n",
       "1                             0                         XS              CN   \n",
       "2                             0                         XS              CN   \n",
       "\n",
       "   product_color  \n",
       "0          white  \n",
       "1          green  \n",
       "2   leopardprint  \n",
       "\n",
       "[3 rows x 27 columns]"
      ]
     },
     "execution_count": 9,
     "metadata": {},
     "output_type": "execute_result"
    }
   ],
   "source": [
    "df[\"product_variation_size_id\"] = data[\"product_variation_size_id\"]\n",
    "df[\"origin_country\"] = data[\"origin_country\"]\n",
    "df[\"product_color\"] = data[\"product_color\"]\n",
    "df.head(3)"
   ]
  },
  {
   "cell_type": "code",
   "execution_count": 10,
   "metadata": {
    "cell_id": "00015-8a749587-5515-4f23-b3a6-5481f0e092d6",
    "deepnote_cell_type": "code",
    "deepnote_to_be_reexecuted": false,
    "execution_millis": 6,
    "execution_start": 1613882233636,
    "source_hash": "c56ced0d",
    "tags": []
   },
   "outputs": [
    {
     "data": {
      "text/plain": [
       "S               641\n",
       "XS              356\n",
       "M               200\n",
       "XXS             100\n",
       "L                49\n",
       "S.               18\n",
       "XL               17\n",
       "XXL              15\n",
       "XXXS              6\n",
       "Size S            5\n",
       "4XL               5\n",
       "XS.               5\n",
       "s                 5\n",
       "Size-XS           4\n",
       "SIZE XS           4\n",
       "2XL               4\n",
       "M.                4\n",
       "Size-S            3\n",
       "10 ml             3\n",
       "33                3\n",
       "SizeL             3\n",
       "34                3\n",
       "2pcs              3\n",
       "1 pc.             2\n",
       "SIZE-XXS          2\n",
       "XXXXXL            2\n",
       "size S            2\n",
       "S Pink            2\n",
       "Size S.           2\n",
       "Size4XL           2\n",
       "35                2\n",
       "Size M            2\n",
       "S(bust 88cm)      2\n",
       "1                 2\n",
       "Size -XXS         2\n",
       "XXXXL             2\n",
       "One Size          2\n",
       "29                2\n",
       "Suit-S            2\n",
       "25                2\n",
       "5XL               2\n",
       "3XL               2\n",
       "EU 35             2\n",
       "Name: product_variation_size_id, dtype: int64"
      ]
     },
     "execution_count": 10,
     "metadata": {},
     "output_type": "execute_result"
    }
   ],
   "source": [
    "count = df['product_variation_size_id'].value_counts()\n",
    "count[count>=2]"
   ]
  },
  {
   "cell_type": "code",
   "execution_count": 11,
   "metadata": {
    "cell_id": "00016-df60d301-cc06-4b9d-a03c-54e650a8d3c3",
    "deepnote_cell_type": "code",
    "deepnote_to_be_reexecuted": false,
    "execution_millis": 11,
    "execution_start": 1613882234152,
    "source_hash": "62d9879b",
    "tags": []
   },
   "outputs": [],
   "source": [
    "df['product_variation_size_id'].replace('S.', 'S', inplace=True)\n",
    "df['product_variation_size_id'].replace('Size S', 'S', inplace=True)\n",
    "df['product_variation_size_id'].replace('XS.', 'XS', inplace=True)\n",
    "df['product_variation_size_id'].replace('s', 'S', inplace=True)\n",
    "df['product_variation_size_id'].replace('M.', 'M', inplace=True)\n",
    "df['product_variation_size_id'].replace('2XL', 'XXL', inplace=True)\n",
    "df['product_variation_size_id'].replace('Size XS', 'XS', inplace=True)\n",
    "df['product_variation_size_id'].replace('Size-XS', 'XS', inplace=True)\n",
    "df['product_variation_size_id'].replace('4XL', 'XXXXL', inplace=True)\n",
    "df['product_variation_size_id'].replace('SIZE XS', 'XS', inplace=True)\n",
    "df['product_variation_size_id'].replace('SizeL', 'L', inplace=True)\n",
    "df['product_variation_size_id'].replace('Size-S', 'S', inplace=True)\n",
    "df['product_variation_size_id'].replace('5XL', 'XXXXXL', inplace=True)\n",
    "df['product_variation_size_id'].replace('3XL', 'XXXL', inplace=True)\n",
    "df['product_variation_size_id'].replace('S(bust 88cm)', 'S', inplace=True)\n",
    "df['product_variation_size_id'].replace('Size4XL', 'XXXXL', inplace=True)\n",
    "df['product_variation_size_id'].replace('Size -XXS', 'XXS', inplace=True)\n",
    "df['product_variation_size_id'].replace('SIZE-XXS', 'XXS', inplace=True)\n",
    "df['product_variation_size_id'].replace('Size M', 'M', inplace=True)\n",
    "df['product_variation_size_id'].replace('size S', 'S', inplace=True)\n",
    "df['product_variation_size_id'].replace('S Pink', 'S', inplace=True)\n",
    "df['product_variation_size_id'].replace('Size S.', 'S', inplace=True)\n",
    "df['product_variation_size_id'].replace('Suit-S', 'S', inplace=True)"
   ]
  },
  {
   "cell_type": "code",
   "execution_count": 12,
   "metadata": {
    "cell_id": "00017-570a8ab7-7f28-46cd-96a1-628f185af786",
    "deepnote_cell_type": "code",
    "deepnote_to_be_reexecuted": false,
    "execution_millis": 2,
    "execution_start": 1613882234743,
    "source_hash": "c7169a84",
    "tags": []
   },
   "outputs": [],
   "source": [
    "def size_name(size):\n",
    "    ls = [\"XXXS\", \"XXS\", \"XS\", \"S\", \"M\", \"L\", \"XL\", \"XXL\", \"XXXL\", \"XXXXL\", \"XXXXXL\"]\n",
    "    if size in ls:\n",
    "        return size\n",
    "    return \"Others\""
   ]
  },
  {
   "cell_type": "code",
   "execution_count": 13,
   "metadata": {
    "cell_id": "00018-f16f3dc8-4275-49b2-80d6-fa297a8723ae",
    "deepnote_cell_type": "code",
    "deepnote_to_be_reexecuted": false,
    "execution_millis": 1,
    "execution_start": 1613882236769,
    "source_hash": "b2d17f75",
    "tags": []
   },
   "outputs": [
    {
     "data": {
      "text/plain": [
       "S         682\n",
       "XS        369\n",
       "M         206\n",
       "XXS       104\n",
       "Others    102\n",
       "L          52\n",
       "XXL        19\n",
       "XL         17\n",
       "XXXXL       9\n",
       "XXXS        6\n",
       "XXXXXL      4\n",
       "XXXL        3\n",
       "Name: product_variation_size_id, dtype: int64"
      ]
     },
     "execution_count": 13,
     "metadata": {},
     "output_type": "execute_result"
    }
   ],
   "source": [
    "df['product_variation_size_id'].replace(np.nan, 'Others', inplace=True)\n",
    "df['product_variation_size_id'] = df['product_variation_size_id'].apply(size_name)\n",
    "df['product_variation_size_id'].value_counts()"
   ]
  },
  {
   "cell_type": "code",
   "execution_count": 14,
   "metadata": {
    "cell_id": "00019-f1bfb3ee-d8e4-4e5e-87ca-56768eb218a1",
    "deepnote_cell_type": "code",
    "deepnote_to_be_reexecuted": false,
    "execution_millis": 23,
    "execution_start": 1613882236773,
    "source_hash": "74fd0b10",
    "tags": []
   },
   "outputs": [
    {
     "data": {
      "text/plain": [
       "CN    1516\n",
       "US      31\n",
       "VE       5\n",
       "SG       2\n",
       "GB       1\n",
       "AT       1\n",
       "Name: origin_country, dtype: int64"
      ]
     },
     "execution_count": 14,
     "metadata": {},
     "output_type": "execute_result"
    }
   ],
   "source": [
    "df['origin_country'].value_counts()"
   ]
  },
  {
   "cell_type": "code",
   "execution_count": 15,
   "metadata": {
    "cell_id": "00020-787ebd75-ed87-445d-aaf5-c035b11a8f73",
    "deepnote_cell_type": "code",
    "deepnote_to_be_reexecuted": false,
    "execution_millis": 3,
    "execution_start": 1613882240389,
    "source_hash": "9c90b480",
    "tags": []
   },
   "outputs": [],
   "source": [
    "def origin(country):\n",
    "    ls = [\"VE\", \"SG\", \"GB\", \"AT\"]\n",
    "    if country in ls:\n",
    "        return \"Others\"\n",
    "    return country\n",
    "df['origin_country'].replace(np.nan, \"Others\", inplace=True)\n",
    "df['origin_country'] = df['origin_country'].apply(origin)"
   ]
  },
  {
   "cell_type": "code",
   "execution_count": 16,
   "metadata": {
    "cell_id": "00021-e0edf597-5b80-4b8a-87a9-cd0a62489640",
    "deepnote_cell_type": "code",
    "deepnote_to_be_reexecuted": false,
    "execution_millis": 13,
    "execution_start": 1613882241515,
    "source_hash": "ae6b491",
    "tags": []
   },
   "outputs": [
    {
     "data": {
      "text/plain": [
       "price                           127\n",
       "retail_price                    104\n",
       "units_sold                       15\n",
       "uses_ad_boosts                    2\n",
       "rating                          192\n",
       "rating_count                    761\n",
       "rating_five_count               605\n",
       "rating_four_count               440\n",
       "rating_three_count              384\n",
       "rating_two_count                262\n",
       "rating_one_count                330\n",
       "badges_count                      4\n",
       "badge_local_product               2\n",
       "badge_product_quality             2\n",
       "badge_fast_shipping               2\n",
       "product_variation_inventory      48\n",
       "shipping_option_price             8\n",
       "shipping_is_express               2\n",
       "countries_shipped_to             94\n",
       "inventory_total                  10\n",
       "has_urgency_banner                2\n",
       "merchant_rating_count           917\n",
       "merchant_rating                 952\n",
       "merchant_has_profile_picture      2\n",
       "product_variation_size_id        12\n",
       "origin_country                    3\n",
       "product_color                   101\n",
       "dtype: int64"
      ]
     },
     "execution_count": 16,
     "metadata": {},
     "output_type": "execute_result"
    }
   ],
   "source": [
    "df.nunique()"
   ]
  },
  {
   "cell_type": "code",
   "execution_count": 17,
   "metadata": {
    "cell_id": "00022-67cbf9ba-94bb-4900-845e-c01532c67344",
    "deepnote_cell_type": "code",
    "deepnote_to_be_reexecuted": false,
    "execution_millis": 13,
    "execution_start": 1613882242960,
    "source_hash": "bb4b7a24",
    "tags": []
   },
   "outputs": [
    {
     "data": {
      "text/plain": [
       "black     318\n",
       "white     272\n",
       "blue      159\n",
       "green     156\n",
       "pink      133\n",
       "other     132\n",
       "yellow    108\n",
       "red        99\n",
       "grey       83\n",
       "purple     53\n",
       "orange     32\n",
       "beige      14\n",
       "brown      14\n",
       "Name: product_color, dtype: int64"
      ]
     },
     "execution_count": 17,
     "metadata": {},
     "output_type": "execute_result"
    }
   ],
   "source": [
    "def encoding_prod_color(name):\n",
    "    if name == \"armygreen\" \\\n",
    "    or name == \"khaki\" \\\n",
    "    or name == \"camouflage\"\\\n",
    "    or name == \"mintgreen\" \\\n",
    "    or name == \"lightgreen\" \\\n",
    "    or name == \"lightkhaki\" \\\n",
    "    or name == \"Army green\" \\\n",
    "    or name == \"army green\" \\\n",
    "    or name == \"darkgreen\" \\\n",
    "    or name == \"Green\" \\\n",
    "    or name == \"fluorescentgreen\" \\\n",
    "    or name == \"applegreen\" \\\n",
    "    or name == \"navy\":\n",
    "        return \"green\"\n",
    "    \n",
    "    elif name == \"Black\" \\\n",
    "    or name == \"black & white\" \\\n",
    "    or name == \"black & blue\" \\\n",
    "    or name == \"coolblack\" \\\n",
    "    or name == \"black & green\" \\\n",
    "    or name == \"black & yellow\":\n",
    "        return \"black\"\n",
    "    \n",
    "    elif name == \"navyblue\" \\\n",
    "    or name == \"lightblue\" \\\n",
    "    or name == \"skyblue\" \\\n",
    "    or name == \"Blue\" \\\n",
    "    or name == \"darkblue\" \\\n",
    "    or name == \"navy blue\" \\\n",
    "    or name == \"navyblue & white\" \\\n",
    "    or name == \"lakeblue\":\n",
    "        return \"blue\"\n",
    "    \n",
    "    elif name == \"Yellow\" \\\n",
    "    or name == \"lightyellow\" \\\n",
    "    or name == \"star\":\n",
    "        return \"yellow\"\n",
    "    \n",
    "    elif name == \"offwhite\" \\\n",
    "    or name == \"White\" \\\n",
    "    or name == \"whitefloral\" \\\n",
    "    or name == \"white & black\" \\\n",
    "    or name == \"white & green\":\n",
    "        return \"white\"\n",
    "    \n",
    "    elif name == \"rosered\" \\\n",
    "    or name == \"rose\" \\\n",
    "    or name == \"Pink\" \\\n",
    "    or name == \"Rose\" \\\n",
    "    or name == \"pink & grey\" \\\n",
    "    or name == \"floral\" \\\n",
    "    or name == \"lightpink\" \\\n",
    "    or name == \"pink & white\" \\\n",
    "    or name == \"pink & black\" \\\n",
    "    or name == \"pink & blue\" \\\n",
    "    or name == \"dustypink\":\n",
    "        return \"pink\"\n",
    "    \n",
    "    elif name == \"Red\" \\\n",
    "    or name == \"rouge\" \\\n",
    "    or name == \"lightred\" \\\n",
    "    or name == \"coralred\" \\\n",
    "    or name == \"watermelonred\" \\\n",
    "    or name == \"Rouge\":\n",
    "        return \"red\"\n",
    "    \n",
    "    elif name == \"Orange\" \\\n",
    "    or name == \"orange-red\" \\\n",
    "    or name == \"apricot\":\n",
    "        return \"orange\"\n",
    "    \n",
    "    elif name == 'coffee':\n",
    "        return \"brown\"\n",
    "    \n",
    "    elif name == \"lightgrey\" \\\n",
    "    or name == \"gray\" \\\n",
    "    or name == \"Grey\" \\\n",
    "    or name == \"grey\":\n",
    "        return \"grey\"\n",
    "    \n",
    "    elif name == 'white' \\\n",
    "    or name == 'black' \\\n",
    "    or name == 'yellow' \\\n",
    "    or name == 'pink' \\\n",
    "    or name == 'red' \\\n",
    "    or name == 'green' \\\n",
    "    or name == 'orange' \\\n",
    "    or name == 'grey' \\\n",
    "    or name == 'brown' \\\n",
    "    or name == \"purple\" \\\n",
    "    or name == \"blue\" \\\n",
    "    or name == 'beige':\n",
    "        return name\n",
    "    \n",
    "    else:\n",
    "        return \"other\"\n",
    "    \n",
    "df['product_color'] = df['product_color'].replace(np.nan, \"Other\")\n",
    "df['product_color'] = df['product_color'].apply(encoding_prod_color)\n",
    "df['product_color'].value_counts().head(50)"
   ]
  },
  {
   "cell_type": "markdown",
   "metadata": {
    "cell_id": "00007-8411b7e4-10b1-4070-9543-00b7a6f2defe",
    "deepnote_cell_type": "markdown"
   },
   "source": [
    "Fit scikit-learn model\n",
    "----"
   ]
  },
  {
   "cell_type": "code",
   "execution_count": 18,
   "metadata": {},
   "outputs": [],
   "source": [
    "# Building the full pipeline to preprocessing numerical and categorical features.\n",
    "\n",
    "categorical_columns = (df.dtypes == object)\n",
    "numeric_columns   = ~categorical_columns\n",
    "\n",
    "categorical_transformer = Pipeline(steps=[\n",
    "('impute', impute.SimpleImputer(strategy='most_frequent', add_indicator=True)),\n",
    "('onehot', preprocessing.OneHotEncoder())])\n",
    "\n",
    "numeric_transformer = Pipeline(steps=[('imputer', impute.SimpleImputer(strategy='median')),\n",
    "('scaler', preprocessing.StandardScaler())])        \n",
    "\n",
    "preprocessor = compose.ColumnTransformer(transformers=[('num', numeric_transformer, numeric_columns),\n",
    "    ('cat', categorical_transformer, categorical_columns)])\n",
    "\n",
    "pipe = Pipeline(steps=[('preprocessor', preprocessor),\n",
    "                   ('classifier', None)])"
   ]
  },
  {
   "cell_type": "code",
   "execution_count": 19,
   "metadata": {},
   "outputs": [
    {
     "data": {
      "text/plain": [
       "array([[ 1.95244419, -0.30606813, -0.45319674, ...,  0.        ,\n",
       "         1.        ,  0.        ],\n",
       "       [-0.08277541, -0.04246117,  1.67433437, ...,  0.        ,\n",
       "         0.        ,  0.        ],\n",
       "       [-0.08277541,  0.64950711, -0.45319674, ...,  0.        ,\n",
       "         0.        ,  0.        ],\n",
       "       ...,\n",
       "       [-0.84598276, -0.14131378, -0.45319674, ...,  0.        ,\n",
       "         1.        ,  0.        ],\n",
       "       [ 1.18923684, -0.40492074, -0.45319674, ...,  0.        ,\n",
       "         1.        ,  0.        ],\n",
       "       [-0.33717786, -0.56967509, -0.45319674, ...,  1.        ,\n",
       "         0.        ,  0.        ]])"
      ]
     },
     "execution_count": 19,
     "metadata": {},
     "output_type": "execute_result"
    }
   ],
   "source": [
    "df_prepared = pipe.fit_transform(df)\n",
    "df_prepared"
   ]
  },
  {
   "cell_type": "code",
   "execution_count": 20,
   "metadata": {
    "cell_id": "00008-41576e38-29ab-41e8-a303-e1602110810f",
    "deepnote_cell_type": "code",
    "deepnote_to_be_reexecuted": false,
    "execution_millis": 99,
    "execution_start": 1613882246022,
    "source_hash": "af815584"
   },
   "outputs": [
    {
     "data": {
      "text/html": [
       "<div>\n",
       "<style scoped>\n",
       "    .dataframe tbody tr th:only-of-type {\n",
       "        vertical-align: middle;\n",
       "    }\n",
       "\n",
       "    .dataframe tbody tr th {\n",
       "        vertical-align: top;\n",
       "    }\n",
       "\n",
       "    .dataframe thead th {\n",
       "        text-align: right;\n",
       "    }\n",
       "</style>\n",
       "<table border=\"1\" class=\"dataframe\">\n",
       "  <thead>\n",
       "    <tr style=\"text-align: right;\">\n",
       "      <th></th>\n",
       "      <th>price</th>\n",
       "      <th>retail_price</th>\n",
       "      <th>units_sold</th>\n",
       "      <th>uses_ad_boosts</th>\n",
       "      <th>rating</th>\n",
       "      <th>rating_count</th>\n",
       "      <th>rating_five_count</th>\n",
       "      <th>rating_four_count</th>\n",
       "      <th>rating_three_count</th>\n",
       "      <th>rating_two_count</th>\n",
       "      <th>...</th>\n",
       "      <th>Size__XL</th>\n",
       "      <th>Size__XS</th>\n",
       "      <th>Size__XXL</th>\n",
       "      <th>Size__XXS</th>\n",
       "      <th>Size__XXXL</th>\n",
       "      <th>Size__XXXS</th>\n",
       "      <th>Size__XXXXL</th>\n",
       "      <th>Size__XXXXXL</th>\n",
       "      <th>Origin__Others</th>\n",
       "      <th>Origin__US</th>\n",
       "    </tr>\n",
       "  </thead>\n",
       "  <tbody>\n",
       "    <tr>\n",
       "      <th>0</th>\n",
       "      <td>16.00</td>\n",
       "      <td>14</td>\n",
       "      <td>100</td>\n",
       "      <td>0</td>\n",
       "      <td>3.76</td>\n",
       "      <td>54</td>\n",
       "      <td>26.0</td>\n",
       "      <td>8.0</td>\n",
       "      <td>10.0</td>\n",
       "      <td>1.0</td>\n",
       "      <td>...</td>\n",
       "      <td>0</td>\n",
       "      <td>0</td>\n",
       "      <td>0</td>\n",
       "      <td>0</td>\n",
       "      <td>0</td>\n",
       "      <td>0</td>\n",
       "      <td>0</td>\n",
       "      <td>0</td>\n",
       "      <td>0</td>\n",
       "      <td>0</td>\n",
       "    </tr>\n",
       "    <tr>\n",
       "      <th>1</th>\n",
       "      <td>8.00</td>\n",
       "      <td>22</td>\n",
       "      <td>20000</td>\n",
       "      <td>1</td>\n",
       "      <td>3.45</td>\n",
       "      <td>6135</td>\n",
       "      <td>2269.0</td>\n",
       "      <td>1027.0</td>\n",
       "      <td>1118.0</td>\n",
       "      <td>644.0</td>\n",
       "      <td>...</td>\n",
       "      <td>0</td>\n",
       "      <td>1</td>\n",
       "      <td>0</td>\n",
       "      <td>0</td>\n",
       "      <td>0</td>\n",
       "      <td>0</td>\n",
       "      <td>0</td>\n",
       "      <td>0</td>\n",
       "      <td>0</td>\n",
       "      <td>0</td>\n",
       "    </tr>\n",
       "    <tr>\n",
       "      <th>2</th>\n",
       "      <td>8.00</td>\n",
       "      <td>43</td>\n",
       "      <td>100</td>\n",
       "      <td>0</td>\n",
       "      <td>3.57</td>\n",
       "      <td>14</td>\n",
       "      <td>5.0</td>\n",
       "      <td>4.0</td>\n",
       "      <td>2.0</td>\n",
       "      <td>0.0</td>\n",
       "      <td>...</td>\n",
       "      <td>0</td>\n",
       "      <td>1</td>\n",
       "      <td>0</td>\n",
       "      <td>0</td>\n",
       "      <td>0</td>\n",
       "      <td>0</td>\n",
       "      <td>0</td>\n",
       "      <td>0</td>\n",
       "      <td>0</td>\n",
       "      <td>0</td>\n",
       "    </tr>\n",
       "    <tr>\n",
       "      <th>3</th>\n",
       "      <td>8.00</td>\n",
       "      <td>8</td>\n",
       "      <td>5000</td>\n",
       "      <td>1</td>\n",
       "      <td>4.03</td>\n",
       "      <td>579</td>\n",
       "      <td>295.0</td>\n",
       "      <td>119.0</td>\n",
       "      <td>87.0</td>\n",
       "      <td>42.0</td>\n",
       "      <td>...</td>\n",
       "      <td>0</td>\n",
       "      <td>0</td>\n",
       "      <td>0</td>\n",
       "      <td>0</td>\n",
       "      <td>0</td>\n",
       "      <td>0</td>\n",
       "      <td>0</td>\n",
       "      <td>0</td>\n",
       "      <td>0</td>\n",
       "      <td>0</td>\n",
       "    </tr>\n",
       "    <tr>\n",
       "      <th>4</th>\n",
       "      <td>2.72</td>\n",
       "      <td>3</td>\n",
       "      <td>100</td>\n",
       "      <td>1</td>\n",
       "      <td>3.10</td>\n",
       "      <td>20</td>\n",
       "      <td>6.0</td>\n",
       "      <td>4.0</td>\n",
       "      <td>2.0</td>\n",
       "      <td>2.0</td>\n",
       "      <td>...</td>\n",
       "      <td>0</td>\n",
       "      <td>0</td>\n",
       "      <td>0</td>\n",
       "      <td>0</td>\n",
       "      <td>0</td>\n",
       "      <td>0</td>\n",
       "      <td>0</td>\n",
       "      <td>0</td>\n",
       "      <td>0</td>\n",
       "      <td>0</td>\n",
       "    </tr>\n",
       "  </tbody>\n",
       "</table>\n",
       "<p>5 rows × 49 columns</p>\n",
       "</div>"
      ],
      "text/plain": [
       "   price  retail_price  units_sold  uses_ad_boosts  rating  rating_count  \\\n",
       "0  16.00            14         100               0    3.76            54   \n",
       "1   8.00            22       20000               1    3.45          6135   \n",
       "2   8.00            43         100               0    3.57            14   \n",
       "3   8.00             8        5000               1    4.03           579   \n",
       "4   2.72             3         100               1    3.10            20   \n",
       "\n",
       "   rating_five_count  rating_four_count  rating_three_count  rating_two_count  \\\n",
       "0               26.0                8.0                10.0               1.0   \n",
       "1             2269.0             1027.0              1118.0             644.0   \n",
       "2                5.0                4.0                 2.0               0.0   \n",
       "3              295.0              119.0                87.0              42.0   \n",
       "4                6.0                4.0                 2.0               2.0   \n",
       "\n",
       "   ...  Size__XL  Size__XS  Size__XXL  Size__XXS  Size__XXXL  Size__XXXS  \\\n",
       "0  ...         0         0          0          0           0           0   \n",
       "1  ...         0         1          0          0           0           0   \n",
       "2  ...         0         1          0          0           0           0   \n",
       "3  ...         0         0          0          0           0           0   \n",
       "4  ...         0         0          0          0           0           0   \n",
       "\n",
       "   Size__XXXXL  Size__XXXXXL  Origin__Others  Origin__US  \n",
       "0            0             0               0           0  \n",
       "1            0             0               0           0  \n",
       "2            0             0               0           0  \n",
       "3            0             0               0           0  \n",
       "4            0             0               0           0  \n",
       "\n",
       "[5 rows x 49 columns]"
      ]
     },
     "execution_count": 20,
     "metadata": {},
     "output_type": "execute_result"
    }
   ],
   "source": [
    "df = pd.get_dummies(df, columns = ['product_color'],\n",
    "                        prefix = \"Color_\",\n",
    "                        drop_first = True)\n",
    "\n",
    "df = pd.get_dummies(df, columns = [\"product_variation_size_id\"],\n",
    "                   prefix = \"Size_\",\n",
    "                   drop_first = True)\n",
    "\n",
    "df = pd.get_dummies(df, columns = [\"origin_country\"],\n",
    "                   prefix = \"Origin_\",\n",
    "                   drop_first = True)\n",
    "\n",
    "df.head()"
   ]
  },
  {
   "cell_type": "markdown",
   "metadata": {},
   "source": [
    "## Feature Selection¶"
   ]
  },
  {
   "cell_type": "code",
   "execution_count": 21,
   "metadata": {
    "cell_id": "00025-eca496c9-88a1-454c-a795-2a497f709e8b",
    "deepnote_cell_type": "code",
    "deepnote_to_be_reexecuted": false,
    "execution_millis": 9,
    "execution_start": 1613882248877,
    "source_hash": "4e251f94",
    "tags": []
   },
   "outputs": [
    {
     "name": "stdout",
     "output_type": "stream",
     "text": [
      "Shape of X is (1573, 48)\n",
      "Shape of y is (1573,)\n",
      "Shape of training set  (943, 48)\n",
      "Shape of test set  (630, 48)\n"
     ]
    }
   ],
   "source": [
    "#Spliting\n",
    "X = df.drop([\"units_sold\"], axis=1)\n",
    "y = df[\"units_sold\"]\n",
    "\n",
    "print(\"Shape of X is {}\".format(X.shape))\n",
    "print(\"Shape of y is {}\".format(y.shape))\n",
    "\n",
    "X_train, X_test, y_train, y_test = train_test_split(X, y, test_size=0.4, random_state=42)\n",
    "\n",
    "print('Shape of training set ', X_train.shape)\n",
    "print('Shape of test set ', X_test.shape)"
   ]
  },
  {
   "cell_type": "code",
   "execution_count": 22,
   "metadata": {
    "cell_id": "00026-9d0163b4-2a6a-4315-921b-3134c247572f",
    "deepnote_cell_type": "code",
    "deepnote_to_be_reexecuted": false,
    "execution_millis": 1,
    "execution_start": 1613882250465,
    "source_hash": "bc49bb90",
    "tags": []
   },
   "outputs": [],
   "source": [
    "def select_features(X_train, y_train, X_test):\n",
    "    fs = SelectKBest(score_func=mutual_info_regression, k=8)\n",
    "    fs.fit(X_train, y_train)\n",
    "    X_train_fs = fs.transform(X_train)\n",
    "    X_test_fs = fs.transform(X_test)\n",
    "    return X_train_fs, X_test_fs, fs"
   ]
  },
  {
   "cell_type": "code",
   "execution_count": 23,
   "metadata": {
    "cell_id": "00028-7c6b17ab-c2a6-4854-9610-cd9d4864761f",
    "deepnote_cell_type": "code",
    "deepnote_to_be_reexecuted": false,
    "execution_millis": 262,
    "execution_start": 1613882252395,
    "source_hash": "8e38a480",
    "tags": []
   },
   "outputs": [
    {
     "name": "stdout",
     "output_type": "stream",
     "text": [
      "Shape of Training set with the best features:  (943, 8)\n"
     ]
    }
   ],
   "source": [
    "X_train_fs, X_test_fs, fs = select_features(X_train, y_train, X_test)\n",
    "print('Shape of Training set with the best features: ', X_train_fs.shape)"
   ]
  },
  {
   "cell_type": "code",
   "execution_count": 24,
   "metadata": {
    "cell_id": "00029-afd5ce19-74d5-467f-b16f-66d0de66e0d1",
    "deepnote_cell_type": "code",
    "deepnote_to_be_reexecuted": false,
    "execution_millis": 7,
    "execution_start": 1613882256329,
    "source_hash": "30a6128d",
    "tags": []
   },
   "outputs": [
    {
     "name": "stdout",
     "output_type": "stream",
     "text": [
      "Best features in our model\n",
      "\n",
      "uses_ad_boosts\n",
      "rating\n",
      "rating_count\n",
      "rating_five_count\n",
      "rating_four_count\n",
      "rating_three_count\n",
      "rating_two_count\n",
      "has_urgency_banner\n"
     ]
    }
   ],
   "source": [
    "cols = fs.get_support(indices=True)\n",
    "\n",
    "print('Best features in our model\\n')\n",
    "for i in cols:\n",
    "    print (df.columns[i])"
   ]
  },
  {
   "cell_type": "code",
   "execution_count": 25,
   "metadata": {},
   "outputs": [
    {
     "name": "stdout",
     "output_type": "stream",
     "text": [
      "DT_model cross validation accuracy score:0.993 +- 0.0049 (std) min:0.9873,max:1.0\n",
      "RF_model cross validation accuracy score:0.9593 +- 0.0048 (std) min:0.9517,max:0.9644\n",
      "LR_model cross validation accuracy score:0.7959 +- 0.005 (std) min:0.7888,max:0.8015\n",
      "[22:46:36] WARNING: ../src/learner.cc:1061: Starting in XGBoost 1.3.0, the default evaluation metric used with the objective 'multi:softprob' was changed from 'merror' to 'mlogloss'. Explicitly set eval_metric if you'd like to restore the old behavior.\n",
      "XGB_model cross validation accuracy score:0.9911 +- 0.0081 (std) min:0.9771,max:0.9975\n"
     ]
    }
   ],
   "source": [
    "base_models = [('DT_model',DecisionTreeClassifier(random_state=42)),\n",
    "            ('RF_model',RandomForestClassifier(random_state=42,n_jobs=-1)),\n",
    "            ('LR_model',LogisticRegression(random_state=42,n_jobs=-1)),\n",
    "            (\"XGB_model\", XGBClassifier(random_state=42, n_jobs=-1))]\n",
    "# split data into 'kfolds' parts for cross validation,\n",
    "# use shuffle to ensure random distribution of data:\n",
    "kfolds = 4\n",
    "split = KFold(n_splits=kfolds,shuffle=True,random_state=42)\n",
    "\n",
    "# Preprocessing, fitting, making predictions and scoring for every model:\n",
    "for name,model in base_models:\n",
    "    model_steps = Pipeline(steps=[('model',model)])\n",
    "    model_steps.fit(df_prepared, y)\n",
    "    cv_results = cross_val_score(model_steps,df_prepared,y,cv=split,scoring='accuracy',\n",
    "                              n_jobs=-1)\n",
    "    # output:\n",
    "    min_score = round(min(cv_results),4)\n",
    "    max_score = round(max(cv_results),4)\n",
    "    mean_score = round(np.mean(cv_results),4)\n",
    "    std_dev = round(np.std(cv_results),4)\n",
    "    print(f'{name} cross validation accuracy score:{mean_score} +- {std_dev} (std) min:{min_score},max:{max_score}')"
   ]
  },
  {
   "cell_type": "markdown",
   "metadata": {},
   "source": [
    "## Regression Model"
   ]
  },
  {
   "cell_type": "code",
   "execution_count": 26,
   "metadata": {
    "cell_id": "00030-4025ac29-e7e8-4759-b3b7-468aeea4ddc7",
    "deepnote_cell_type": "code",
    "deepnote_to_be_reexecuted": false,
    "execution_millis": 1,
    "execution_start": 1613882258226,
    "source_hash": "f084649c",
    "tags": []
   },
   "outputs": [],
   "source": [
    "regressors = [LinearRegression(),\n",
    "             DecisionTreeRegressor(random_state=1),\n",
    "             RandomForestRegressor(n_estimators = 10, random_state=1),\n",
    "             RandomForestClassifier(max_depth = 25, min_samples_leaf = 1,\n",
    "                                     min_samples_split =  5, n_estimators = 100)]\n",
    "\n",
    "predict_df = pd.DataFrame(columns = ['Name', 'Train Score', 'Test Score', 'Mean Absolute Error', 'Mean Squared Error', \n",
    "                             'Cross Validation Score (Mean Accuracy)', 'R2 Score'])"
   ]
  },
  {
   "cell_type": "code",
   "execution_count": 27,
   "metadata": {
    "cell_id": "00031-d267576e-a4f8-4900-8c3b-38d05c09392f",
    "deepnote_cell_type": "code",
    "deepnote_to_be_reexecuted": false,
    "execution_millis": 947,
    "execution_start": 1613882259891,
    "source_hash": "acbea82d",
    "tags": []
   },
   "outputs": [],
   "source": [
    "for regressor in regressors:\n",
    "    regressor.fit(X_train_fs, y_train)\n",
    "    y_pred = regressor.predict(X_test_fs)\n",
    "    s = str(type(regressor)).split('.')[-1][:-2]\n",
    "    train = regressor.score(X_train_fs, y_train)\n",
    "    test = regressor.score(X_test_fs, y_test)\n",
    "    mae = mean_absolute_error(y_test, y_pred)\n",
    "    mse = mean_squared_error(y_test, y_pred)   \n",
    "    accuracy = cross_val_score(estimator = regressor, X = X_train_fs, y = y_train, cv=10)\n",
    "    cv = accuracy.mean()*100    \n",
    "    r2 = r2_score(y_test, y_pred)   \n",
    "    predict_df = predict_df.append({'Name': s, 'Train Score': train, 'Test Score': test, 'Mean Absolute Error': mae, \n",
    "                    'Mean Squared Error': mse, 'Cross Validation Score (Mean Accuracy)': cv,\n",
    "                   'R2 Score': r2},\n",
    "                  ignore_index=True)"
   ]
  },
  {
   "cell_type": "markdown",
   "metadata": {
    "cell_id": "00009-0cd96dcf-a58c-4fdc-a51b-e53575446b06",
    "deepnote_cell_type": "markdown"
   },
   "source": [
    "Evaluation Metric\n",
    "----"
   ]
  },
  {
   "cell_type": "code",
   "execution_count": 28,
   "metadata": {
    "cell_id": "00033-825a6858-b7ab-494c-b38f-81304fe82de0",
    "deepnote_cell_type": "code",
    "deepnote_to_be_reexecuted": false,
    "execution_millis": 13,
    "execution_start": 1613882262737,
    "source_hash": "78dd29b1",
    "tags": []
   },
   "outputs": [
    {
     "data": {
      "text/html": [
       "<div>\n",
       "<style scoped>\n",
       "    .dataframe tbody tr th:only-of-type {\n",
       "        vertical-align: middle;\n",
       "    }\n",
       "\n",
       "    .dataframe tbody tr th {\n",
       "        vertical-align: top;\n",
       "    }\n",
       "\n",
       "    .dataframe thead th {\n",
       "        text-align: right;\n",
       "    }\n",
       "</style>\n",
       "<table border=\"1\" class=\"dataframe\">\n",
       "  <thead>\n",
       "    <tr style=\"text-align: right;\">\n",
       "      <th></th>\n",
       "      <th>Name</th>\n",
       "      <th>Train Score</th>\n",
       "      <th>Test Score</th>\n",
       "      <th>Mean Absolute Error</th>\n",
       "      <th>Mean Squared Error</th>\n",
       "      <th>Cross Validation Score (Mean Accuracy)</th>\n",
       "      <th>R2 Score</th>\n",
       "    </tr>\n",
       "  </thead>\n",
       "  <tbody>\n",
       "    <tr>\n",
       "      <th>0</th>\n",
       "      <td>LinearRegression</td>\n",
       "      <td>0.838958</td>\n",
       "      <td>0.780224</td>\n",
       "      <td>1931.534939</td>\n",
       "      <td>2.222631e+07</td>\n",
       "      <td>77.717517</td>\n",
       "      <td>0.780224</td>\n",
       "    </tr>\n",
       "    <tr>\n",
       "      <th>1</th>\n",
       "      <td>DecisionTreeRegressor</td>\n",
       "      <td>1.000000</td>\n",
       "      <td>0.666356</td>\n",
       "      <td>1548.149206</td>\n",
       "      <td>3.374186e+07</td>\n",
       "      <td>68.006142</td>\n",
       "      <td>0.666356</td>\n",
       "    </tr>\n",
       "    <tr>\n",
       "      <th>2</th>\n",
       "      <td>RandomForestRegressor</td>\n",
       "      <td>0.967975</td>\n",
       "      <td>0.745533</td>\n",
       "      <td>1485.428889</td>\n",
       "      <td>2.573467e+07</td>\n",
       "      <td>77.543620</td>\n",
       "      <td>0.745533</td>\n",
       "    </tr>\n",
       "    <tr>\n",
       "      <th>3</th>\n",
       "      <td>RandomForestClassifier</td>\n",
       "      <td>0.962884</td>\n",
       "      <td>0.742857</td>\n",
       "      <td>1260.058730</td>\n",
       "      <td>2.540456e+07</td>\n",
       "      <td>73.491601</td>\n",
       "      <td>0.748797</td>\n",
       "    </tr>\n",
       "  </tbody>\n",
       "</table>\n",
       "</div>"
      ],
      "text/plain": [
       "                     Name  Train Score  Test Score  Mean Absolute Error  \\\n",
       "0        LinearRegression     0.838958    0.780224          1931.534939   \n",
       "1   DecisionTreeRegressor     1.000000    0.666356          1548.149206   \n",
       "2   RandomForestRegressor     0.967975    0.745533          1485.428889   \n",
       "3  RandomForestClassifier     0.962884    0.742857          1260.058730   \n",
       "\n",
       "   Mean Squared Error  Cross Validation Score (Mean Accuracy)  R2 Score  \n",
       "0        2.222631e+07                               77.717517  0.780224  \n",
       "1        3.374186e+07                               68.006142  0.666356  \n",
       "2        2.573467e+07                               77.543620  0.745533  \n",
       "3        2.540456e+07                               73.491601  0.748797  "
      ]
     },
     "execution_count": 28,
     "metadata": {},
     "output_type": "execute_result"
    }
   ],
   "source": [
    "predict_df"
   ]
  },
  {
   "cell_type": "markdown",
   "metadata": {},
   "source": [
    "## Hyperparameter Tuning"
   ]
  },
  {
   "cell_type": "code",
   "execution_count": 29,
   "metadata": {
    "cell_id": "00034-632d86ab-b8a7-4592-8263-8c3f4350e744",
    "deepnote_cell_type": "code",
    "deepnote_to_be_reexecuted": false,
    "execution_millis": 19187,
    "execution_start": 1613882264113,
    "source_hash": "286f4e2d",
    "tags": []
   },
   "outputs": [
    {
     "data": {
      "text/plain": [
       "GridSearchCV(cv=5, estimator=RandomForestRegressor(random_state=1),\n",
       "             param_grid={'max_depth': [4, 5, 6, 7, 8],\n",
       "                         'n_estimators': array([ 4,  6,  8, 10, 12, 14, 16, 18, 20, 22, 24, 26, 28])})"
      ]
     },
     "execution_count": 29,
     "metadata": {},
     "output_type": "execute_result"
    }
   ],
   "source": [
    "from sklearn.model_selection import GridSearchCV\n",
    "\n",
    "reg = RandomForestRegressor(random_state=1)\n",
    "\n",
    "param_grid = { \n",
    "    'n_estimators': np.arange(4, 30, 2),\n",
    "    'max_depth' : [4,5,6,7,8],\n",
    "}\n",
    "\n",
    "CV_reg = GridSearchCV(estimator=reg, param_grid=param_grid, cv= 5)\n",
    "CV_reg.fit(X_train_fs, y_train)"
   ]
  },
  {
   "cell_type": "code",
   "execution_count": 30,
   "metadata": {
    "cell_id": "00035-f0ca9115-a8d2-4f71-a827-be5827162dbb",
    "deepnote_cell_type": "code",
    "deepnote_to_be_reexecuted": false,
    "execution_millis": 10,
    "execution_start": 1613882300617,
    "source_hash": "dcbdfe54",
    "tags": []
   },
   "outputs": [
    {
     "data": {
      "text/plain": [
       "{'max_depth': 4, 'n_estimators': 28}"
      ]
     },
     "execution_count": 30,
     "metadata": {},
     "output_type": "execute_result"
    }
   ],
   "source": [
    "CV_reg.best_params_"
   ]
  },
  {
   "cell_type": "code",
   "execution_count": 31,
   "metadata": {},
   "outputs": [],
   "source": [
    "# reg = RandomForestClassifier(random_state=1)\n",
    "# param_grid = {'n_estimators': [100, 300, 500, 800, 1200],\n",
    "# 'max_depth' : [5, 8, 15, 25, 30],\n",
    "# 'min_samples_split' : [2, 5, 10, 15, 100],\n",
    "# 'min_samples_leaf' : [1, 2, 5, 10]}\n",
    "# CV_reg = GridSearchCV(estimator=reg, param_grid=param_grid, cv= 5)\n",
    "# CV_reg.fit(X_train_fs, y_train)"
   ]
  },
  {
   "cell_type": "code",
   "execution_count": 32,
   "metadata": {},
   "outputs": [],
   "source": [
    "# CV_reg.best_params_"
   ]
  },
  {
   "cell_type": "code",
   "execution_count": 33,
   "metadata": {
    "cell_id": "00036-b8d4de1a-45dd-460f-bda6-a916c8450ea5",
    "deepnote_cell_type": "code",
    "deepnote_to_be_reexecuted": false,
    "execution_millis": 1429,
    "execution_start": 1613882367062,
    "source_hash": "325c1f70",
    "tags": []
   },
   "outputs": [],
   "source": [
    "regressor = RandomForestRegressor(n_estimators=28, random_state=1, max_depth=4)\n",
    "regressor.fit(X_train_fs, y_train)\n",
    "y_pred = regressor.predict(X_test_fs)\n",
    "df = df.append({'Name': str(type(regressor)).split('.')[-1][:-2] + ' (after GridSearchCV)', \n",
    "                'Train Score': regressor.score(X_train_fs, y_train), \n",
    "                'Test Score': regressor.score(X_test_fs, y_test), \n",
    "                'Mean Absolute Error': mean_absolute_error(y_test, y_pred), \n",
    "                'Mean Squared Error': mean_squared_error(y_test, y_pred), \n",
    "                'Cross Validation Score (Mean Accuracy)': cross_val_score(estimator = regressor, X = X_train_fs, y = y_train, cv=10).mean()*100,\n",
    "                'R2 Score': r2_score(y_test, y_pred)},\n",
    "                  ignore_index=True)"
   ]
  },
  {
   "cell_type": "code",
   "execution_count": 34,
   "metadata": {},
   "outputs": [],
   "source": [
    "regressor = RandomForestClassifier(max_depth = 25, min_samples_leaf = 1,\n",
    "                                     min_samples_split =  5, n_estimators = 100)\n",
    "regressor.fit(X_train_fs, y_train)\n",
    "y_pred = regressor.predict(X_test_fs)\n",
    "df = df.append({'Name': str(type(regressor)).split('.')[-1][:-2] + ' (after GridSearchCV)', \n",
    "                'Train Score': regressor.score(X_train_fs, y_train), \n",
    "                'Test Score': regressor.score(X_test_fs, y_test), \n",
    "                'Mean Absolute Error': mean_absolute_error(y_test, y_pred), \n",
    "                'Mean Squared Error': mean_squared_error(y_test, y_pred), \n",
    "                'Cross Validation Score (Mean Accuracy)': cross_val_score(estimator = regressor, X = X_train_fs, y = y_train, cv=10).mean()*100,\n",
    "                'R2 Score': r2_score(y_test, y_pred)},\n",
    "                  ignore_index=True)"
   ]
  },
  {
   "cell_type": "markdown",
   "metadata": {},
   "source": [
    "## final model"
   ]
  },
  {
   "cell_type": "code",
   "execution_count": 35,
   "metadata": {
    "cell_id": "00033-7521dd0c-6a30-4dd1-91ca-0fb3c84ee9f4",
    "deepnote_cell_type": "code",
    "deepnote_to_be_reexecuted": false,
    "execution_millis": 1831,
    "execution_start": 1613882464507,
    "source_hash": "32d0bfe6",
    "tags": []
   },
   "outputs": [],
   "source": [
    "from sklearn.ensemble import VotingRegressor\n",
    "\n",
    "regressor = VotingRegressor([('lr',LinearRegression()), ('rf', RandomForestRegressor(n_estimators=28, random_state=1, max_depth=4))])\n",
    "\n",
    "regressor.fit(X_train_fs, y_train)\n",
    "\n",
    "# Predicting test values\n",
    "y_pred = regressor.predict(X_test_fs)\n",
    "\n",
    "predict_df = predict_df.append({'Name': str(type(regressor)).split('.')[-1][:-2], \n",
    "                'Train Score': regressor.score(X_train_fs, y_train), \n",
    "                'Test Score': regressor.score(X_test_fs, y_test), \n",
    "                'Mean Absolute Error': mean_absolute_error(y_test, y_pred), \n",
    "                'Mean Squared Error': mean_squared_error(y_test, y_pred), \n",
    "                'Cross Validation Score (Mean Accuracy)': cross_val_score(estimator = regressor, X = X_train_fs, y = y_train, cv=10).mean()*100,\n",
    "                'R2 Score': r2_score(y_test, y_pred)},\n",
    "                  ignore_index=True)"
   ]
  },
  {
   "cell_type": "code",
   "execution_count": 36,
   "metadata": {
    "cell_id": "00036-0398e3aa-828d-49b6-a388-e1f58edf83d4",
    "deepnote_cell_type": "code",
    "deepnote_to_be_reexecuted": false,
    "execution_millis": 50,
    "execution_start": 1613882466358,
    "source_hash": "78dd29b1",
    "tags": []
   },
   "outputs": [
    {
     "data": {
      "text/html": [
       "<div>\n",
       "<style scoped>\n",
       "    .dataframe tbody tr th:only-of-type {\n",
       "        vertical-align: middle;\n",
       "    }\n",
       "\n",
       "    .dataframe tbody tr th {\n",
       "        vertical-align: top;\n",
       "    }\n",
       "\n",
       "    .dataframe thead th {\n",
       "        text-align: right;\n",
       "    }\n",
       "</style>\n",
       "<table border=\"1\" class=\"dataframe\">\n",
       "  <thead>\n",
       "    <tr style=\"text-align: right;\">\n",
       "      <th></th>\n",
       "      <th>Name</th>\n",
       "      <th>Train Score</th>\n",
       "      <th>Test Score</th>\n",
       "      <th>Mean Absolute Error</th>\n",
       "      <th>Mean Squared Error</th>\n",
       "      <th>Cross Validation Score (Mean Accuracy)</th>\n",
       "      <th>R2 Score</th>\n",
       "    </tr>\n",
       "  </thead>\n",
       "  <tbody>\n",
       "    <tr>\n",
       "      <th>0</th>\n",
       "      <td>LinearRegression</td>\n",
       "      <td>0.838958</td>\n",
       "      <td>0.780224</td>\n",
       "      <td>1931.534939</td>\n",
       "      <td>2.222631e+07</td>\n",
       "      <td>77.717517</td>\n",
       "      <td>0.780224</td>\n",
       "    </tr>\n",
       "    <tr>\n",
       "      <th>1</th>\n",
       "      <td>DecisionTreeRegressor</td>\n",
       "      <td>1.000000</td>\n",
       "      <td>0.666356</td>\n",
       "      <td>1548.149206</td>\n",
       "      <td>3.374186e+07</td>\n",
       "      <td>68.006142</td>\n",
       "      <td>0.666356</td>\n",
       "    </tr>\n",
       "    <tr>\n",
       "      <th>2</th>\n",
       "      <td>RandomForestRegressor</td>\n",
       "      <td>0.967975</td>\n",
       "      <td>0.745533</td>\n",
       "      <td>1485.428889</td>\n",
       "      <td>2.573467e+07</td>\n",
       "      <td>77.543620</td>\n",
       "      <td>0.745533</td>\n",
       "    </tr>\n",
       "    <tr>\n",
       "      <th>3</th>\n",
       "      <td>RandomForestClassifier</td>\n",
       "      <td>0.962884</td>\n",
       "      <td>0.742857</td>\n",
       "      <td>1260.058730</td>\n",
       "      <td>2.540456e+07</td>\n",
       "      <td>73.491601</td>\n",
       "      <td>0.748797</td>\n",
       "    </tr>\n",
       "    <tr>\n",
       "      <th>4</th>\n",
       "      <td>VotingRegressor</td>\n",
       "      <td>0.891194</td>\n",
       "      <td>0.777891</td>\n",
       "      <td>1684.250408</td>\n",
       "      <td>2.246219e+07</td>\n",
       "      <td>81.700154</td>\n",
       "      <td>0.777891</td>\n",
       "    </tr>\n",
       "  </tbody>\n",
       "</table>\n",
       "</div>"
      ],
      "text/plain": [
       "                     Name  Train Score  Test Score  Mean Absolute Error  \\\n",
       "0        LinearRegression     0.838958    0.780224          1931.534939   \n",
       "1   DecisionTreeRegressor     1.000000    0.666356          1548.149206   \n",
       "2   RandomForestRegressor     0.967975    0.745533          1485.428889   \n",
       "3  RandomForestClassifier     0.962884    0.742857          1260.058730   \n",
       "4         VotingRegressor     0.891194    0.777891          1684.250408   \n",
       "\n",
       "   Mean Squared Error  Cross Validation Score (Mean Accuracy)  R2 Score  \n",
       "0        2.222631e+07                               77.717517  0.780224  \n",
       "1        3.374186e+07                               68.006142  0.666356  \n",
       "2        2.573467e+07                               77.543620  0.745533  \n",
       "3        2.540456e+07                               73.491601  0.748797  \n",
       "4        2.246219e+07                               81.700154  0.777891  "
      ]
     },
     "execution_count": 36,
     "metadata": {},
     "output_type": "execute_result"
    }
   ],
   "source": [
    "predict_df"
   ]
  }
 ],
 "metadata": {
  "deepnote": {},
  "deepnote_execution_queue": [],
  "deepnote_notebook_id": "27a9c99e-2f59-41a2-a038-a1642b066885",
  "kernelspec": {
   "display_name": "Python 3",
   "language": "python",
   "name": "python3"
  },
  "language_info": {
   "codemirror_mode": {
    "name": "ipython",
    "version": 3
   },
   "file_extension": ".py",
   "mimetype": "text/x-python",
   "name": "python",
   "nbconvert_exporter": "python",
   "pygments_lexer": "ipython3",
   "version": "3.8.2"
  },
  "toc": {
   "base_numbering": 1,
   "nav_menu": {},
   "number_sections": false,
   "sideBar": false,
   "skip_h1_title": false,
   "title_cell": "Table of Contents",
   "title_sidebar": "Contents",
   "toc_cell": true,
   "toc_position": {},
   "toc_section_display": true,
   "toc_window_display": false
  },
  "varInspector": {
   "cols": {
    "lenName": 16,
    "lenType": 16,
    "lenVar": 40
   },
   "kernels_config": {
    "python": {
     "delete_cmd_postfix": "",
     "delete_cmd_prefix": "del ",
     "library": "var_list.py",
     "varRefreshCmd": "print(var_dic_list())"
    },
    "r": {
     "delete_cmd_postfix": ") ",
     "delete_cmd_prefix": "rm(",
     "library": "var_list.r",
     "varRefreshCmd": "cat(var_dic_list()) "
    }
   },
   "types_to_exclude": [
    "module",
    "function",
    "builtin_function_or_method",
    "instance",
    "_Feature"
   ],
   "window_display": false
  }
 },
 "nbformat": 4,
 "nbformat_minor": 4
}
